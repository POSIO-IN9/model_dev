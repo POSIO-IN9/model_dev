{
 "cells": [
  {
   "cell_type": "code",
   "execution_count": 5,
   "metadata": {},
   "outputs": [],
   "source": [
    "from PIL import Image, ImageDraw\n",
    "import json\n",
    "from PIL import Image\n",
    "import torchvision.transforms as transforms\n",
    "import torchvision\n",
    "\n",
    "def draw_imgs(json_file_path, image_file_path):\n",
    "   \n",
    "    # JSON 파일 로드\n",
    "    with open(json_file_path, 'r') as f:\n",
    "        data = json.load(f)\n",
    "        \n",
    "    # bbox 데이터 가져오기\n",
    "    annotations = data['annotations']\n",
    "    height = float(data['images'][0]['height'])\n",
    "    width = float(data['images'][0]['width'])\n",
    "    # height = float(1960)\n",
    "    # width = float(4032)\n",
    "    print(height)\n",
    "    print(width)\n",
    "\n",
    "        \n",
    "    # 이미지 열기\n",
    "    image = Image.open(image_file_path)\n",
    "\n",
    "    # Drawing context 생성\n",
    "    draw = ImageDraw.Draw(image)\n",
    "\n",
    "    # Bounding Box 그리기\n",
    "    for annotaion in annotations:\n",
    "        bbox = annotaion['bbox']\n",
    "        x_min, y_min, w, h = bbox\n",
    "        x_max = x_min + w \n",
    "        y_max = y_min + h\n",
    "\n",
    "       \n",
    "    draw.rectangle([(bbox[1], height - (bbox[0] + bbox[2]),bbox[1] + bbox[3], height- bbox[0])], outline=\"red\", width=3)\n",
    "    # 결과 저장\n",
    "    output_path = \"./test/draw/result.jpg\"\n",
    "    image.save(output_path)\n",
    "\n",
    "    print(f\"이미지 저장 완료: {output_path}\")\n",
    "\n"
   ]
  },
  {
   "cell_type": "code",
   "execution_count": 6,
   "metadata": {},
   "outputs": [
    {
     "name": "stdout",
     "output_type": "stream",
     "text": [
      "./datasets/test1/07_20201028_567302.json\n",
      "./datasets/test1/07_20201028_567302.jpg\n",
      "1960.0\n",
      "4032.0\n",
      "이미지 저장 완료: ./test/draw/result.jpg\n"
     ]
    }
   ],
   "source": [
    "def draw_images_for_file(f_name):\n",
    "    # JSON 파일 경로 설정\n",
    "    json_file_path = './datasets/test1/' + f_name + '.json'\n",
    "    print(json_file_path)\n",
    "    # 이미지 파일 경로 설정\n",
    "    image_file_path = './datasets/test1/' + f_name + '.jpg'\n",
    "    print(image_file_path)\n",
    "    \n",
    "    # draw_imgs 함수 호출\n",
    "    draw_imgs(json_file_path, image_file_path)\n",
    "\n",
    "# 파일 이름 설정\n",
    "f_name = '07_20201028_567302'\n",
    "\n",
    "# 함수 호출\n",
    "draw_images_for_file(f_name)"
   ]
  },
  {
   "cell_type": "code",
   "execution_count": 4,
   "metadata": {},
   "outputs": [],
   "source": [
    "import os\n",
    "import json\n",
    "from PIL import Image\n",
    "import torchvision.transforms as transforms\n",
    "import torchvision\n",
    "\n",
    "# 크롭된 이미지를 저장할 기본 경로\n",
    "crop_base_path = './rose/rose_img_crop'\n",
    "\n",
    "# JSON 파일에서 bbox 데이터를 사용하여 이미지를 크롭하는 함수\n",
    "def crop_images(json_file_path, image_file_path):\n",
    "    # JSON 파일 로드\n",
    "    with open(json_file_path, 'r') as f:\n",
    "        data = json.load(f)\n",
    "    \n",
    "    # 이미지 파일 열기\n",
    "    img = Image.open(image_file_path)\n",
    "    \n",
    "    # 변환할 때 사용할 크롭 및 변환 작업 정의\n",
    "    transform = transforms.Compose([\n",
    "        transforms.ToTensor()\n",
    "    ])\n",
    "    \n",
    "    # bbox 데이터 가져오기\n",
    "    annotations = data['annotations']\n",
    "    categories = {category['id']: category['name'] for category in data['categories']}\n",
    "    height = float(data['images'][0]['height'])\n",
    "    width = float(data['images'][0]['width'])\n",
    "    \n",
    "    cropped_images = []\n",
    "    # bbox를 사용하여 이미지 크롭 및 저장\n",
    "    for annotation in annotations:\n",
    "        bbox = annotation['bbox']\n",
    "        \n",
    "        # 이미지를 크롭합니다.\n",
    "        cropped_img = img.crop((bbox[1], height - (bbox[0] + bbox[2]),bbox[1] + bbox[3], height- bbox[0]))\n",
    "        cropped_img = transform(cropped_img)  # Torch 텐서로 변환\n",
    "        cropped_images.append(cropped_img)\n",
    "        \n",
    "        # 어노테이션 ID에 해당하는 카테고리 이름 가져오기\n",
    "        category_id = annotation['category_id']\n",
    "        category_name = categories[category_id]\n",
    "        \n",
    "        # 카테고리 이름에 해당하는 폴더 생성\n",
    "        category_path = os.path.join(crop_base_path, category_name)\n",
    "        if not os.path.exists(category_path):\n",
    "            os.makedirs(category_path)\n",
    "        \n",
    "        # 이미지 저장\n",
    "        file_name = os.path.splitext(os.path.basename(image_file_path))[0] + '_' + str(annotation['id']) + '.jpg'\n",
    "        save_path = os.path.join(category_path, file_name)\n",
    "        torchvision.utils.save_image(cropped_img, save_path)\n",
    "        print(f\"이미지 저장 완료: {save_path}\")\n",
    "\n",
    "    return cropped_images\n",
    "\n"
   ]
  },
  {
   "cell_type": "code",
   "execution_count": 86,
   "metadata": {},
   "outputs": [
    {
     "name": "stdout",
     "output_type": "stream",
     "text": [
      "./rose/rose_label/07_20201028_567425.json\n",
      "./rose/rose_img/07_20201028_567425.jpg\n",
      "이미지 저장 완료: ./rose/rose_img_crop\\줄기\\07_20201028_567425_0.jpg\n",
      "이미지 저장 완료: ./rose/rose_img_crop\\화방\\07_20201028_567425_1.jpg\n"
     ]
    }
   ],
   "source": [
    "def crop_images_for_file(f_name):\n",
    "    # JSON 파일 경로 설정\n",
    "    json_file_path = './rose/rose_label/' + f_name + '.json'\n",
    "    print(json_file_path)\n",
    "    # 이미지 파일 경로 설정\n",
    "    image_file_path = './rose/rose_img/' + f_name + '.jpg'\n",
    "    print(image_file_path)\n",
    "    \n",
    "    # crop_images 함수 호출\n",
    "    cropped_images = crop_images(json_file_path, image_file_path)\n",
    "\n",
    "# 파일 이름 설정\n",
    "f_name = '07_20201028_567425'\n",
    "\n",
    "# 함수 호출\n",
    "crop_images_for_file(f_name)"
   ]
  },
  {
   "cell_type": "code",
   "execution_count": null,
   "metadata": {},
   "outputs": [],
   "source": []
  }
 ],
 "metadata": {
  "kernelspec": {
   "display_name": "py3_11",
   "language": "python",
   "name": "python3"
  },
  "language_info": {
   "codemirror_mode": {
    "name": "ipython",
    "version": 3
   },
   "file_extension": ".py",
   "mimetype": "text/x-python",
   "name": "python",
   "nbconvert_exporter": "python",
   "pygments_lexer": "ipython3",
   "version": "3.11.9"
  }
 },
 "nbformat": 4,
 "nbformat_minor": 2
}
