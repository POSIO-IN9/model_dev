{
 "cells": [
  {
   "cell_type": "code",
   "execution_count": 3,
   "metadata": {},
   "outputs": [],
   "source": [
    "import tarfile\n",
    "import os\n",
    "\n",
    "def extract_tar_file(file_path, extract_path='.'):\n",
    "    \"\"\"\n",
    "    주어진 tar 파일의 압축을 풉니다.\n",
    "\n",
    "    Parameters:\n",
    "    file_path (str): 압축을 풀 tar 파일의 경로\n",
    "    extract_path (str): 파일을 추출할 경로. 기본값은 현재 디렉토리('.')\n",
    "\n",
    "    Returns:\n",
    "    None\n",
    "    \"\"\"\n",
    "    try:\n",
    "        # tar 파일 열기\n",
    "        with tarfile.open(file_path, 'r:*') as tar:\n",
    "            # 모든 파일 압축 풀기\n",
    "            tar.extractall(path=extract_path)\n",
    "    except Exception as e:\n",
    "        print(f\"압축 해제 중 오류가 발생했습니다: {e}\")\n",
    "\n",
    "def extract_all_tar_files_in_folder(folder_path, base_extract_path='.'):\n",
    "    \"\"\"\n",
    "    주어진 폴더 내 모든 tar 파일을 찾아 압축을 풉니다.\n",
    "    각 tar 파일은 '[원천]파일이름.tar' 형식으로 주어지며,\n",
    "    파일 이름에 기반한 폴더를 생성하여 그 폴더에 압축을 풉니다.\n",
    "\n",
    "    Parameters:\n",
    "    folder_path (str): tar 파일들이 있는 폴더의 경로\n",
    "    base_extract_path (str): 기본 추출 경로. 기본값은 현재 디렉토리('.')\n",
    "\n",
    "    Returns:\n",
    "    None\n",
    "    \"\"\"\n",
    "    # 폴더 내 tar 파일 목록 가져오기\n",
    "    tar_files = [f for f in os.listdir(folder_path) if f.endswith(('.tar', '.tar.gz', '.tar.bz2'))]\n",
    "    total_files = len(tar_files)\n",
    "    \n",
    "    if total_files == 0:\n",
    "        print(\"압축을 풀 tar 파일이 없습니다.\")\n",
    "        return\n",
    "\n",
    "    for i, file_name in enumerate(tar_files):\n",
    "        tar_file_path = os.path.join(folder_path, file_name)\n",
    "        \n",
    "        # 파일 이름에서 '[xx]' 뒤에 있는 이름 추출\n",
    "        # if ']' in file_name:\n",
    "        #     folder_name = file_name.split(']')[1].replace('.tar', '').replace('.tar.gz', '').replace('.tar.bz2', '').strip()\n",
    "        # else:\n",
    "        #     folder_name = file_name.replace('.tar', '').replace('.tar.gz', '').replace('.tar.bz2', '').strip()\n",
    "\n",
    "        folder_name = file_name.replace('.tar', '').replace('.tar.gz', '').replace('.tar.bz2', '').strip()\n",
    "        \n",
    "        # 추출할 폴더 경로\n",
    "        extract_path = os.path.join(base_extract_path, folder_name)\n",
    "        \n",
    "        # 폴더가 존재하지 않으면 생성\n",
    "        os.makedirs(extract_path, exist_ok=True)\n",
    "        \n",
    "        # tar 파일 압축 풀기\n",
    "        extract_tar_file(tar_file_path, extract_path)\n",
    "        \n",
    "        # 진행 상황 출력\n",
    "        progress = (i + 1) / total_files * 100\n",
    "        print(f\"[{i + 1}/{total_files}] '{file_name}'의 압축을 '{extract_path}'에 성공적으로 풀었습니다. 진행 상황: {progress:.2f}%\")\n"
   ]
  },
  {
   "cell_type": "code",
   "execution_count": 4,
   "metadata": {},
   "outputs": [
    {
     "name": "stdout",
     "output_type": "stream",
     "text": [
      "[1/20] '[라벨]가지.tar'의 압축을 'D:/pj_data/Validation\\[라벨]가지'에 성공적으로 풀었습니다. 진행 상황: 5.00%\n",
      "[2/20] '[라벨]거베라.tar'의 압축을 'D:/pj_data/Validation\\[라벨]거베라'에 성공적으로 풀었습니다. 진행 상황: 10.00%\n",
      "[3/20] '[라벨]고추_꽈리.tar'의 압축을 'D:/pj_data/Validation\\[라벨]고추_꽈리'에 성공적으로 풀었습니다. 진행 상황: 15.00%\n",
      "[4/20] '[라벨]고추_풋고추.tar'의 압축을 'D:/pj_data/Validation\\[라벨]고추_풋고추'에 성공적으로 풀었습니다. 진행 상황: 20.00%\n",
      "[5/20] '[라벨]고추청양.tar'의 압축을 'D:/pj_data/Validation\\[라벨]고추청양'에 성공적으로 풀었습니다. 진행 상황: 25.00%\n",
      "[6/20] '[라벨]국화.tar'의 압축을 'D:/pj_data/Validation\\[라벨]국화'에 성공적으로 풀었습니다. 진행 상황: 30.00%\n",
      "[7/20] '[라벨]딸기.tar'의 압축을 'D:/pj_data/Validation\\[라벨]딸기'에 성공적으로 풀었습니다. 진행 상황: 35.00%\n",
      "[8/20] '[라벨]멜론.tar'의 압축을 'D:/pj_data/Validation\\[라벨]멜론'에 성공적으로 풀었습니다. 진행 상황: 40.00%\n",
      "[9/20] '[라벨]부추.tar'의 압축을 'D:/pj_data/Validation\\[라벨]부추'에 성공적으로 풀었습니다. 진행 상황: 45.00%\n",
      "[10/20] '[라벨]상추.tar'의 압축을 'D:/pj_data/Validation\\[라벨]상추'에 성공적으로 풀었습니다. 진행 상황: 50.00%\n",
      "[11/20] '[라벨]안개.tar'의 압축을 'D:/pj_data/Validation\\[라벨]안개'에 성공적으로 풀었습니다. 진행 상황: 55.00%\n",
      "[12/20] '[라벨]애플망고.tar'의 압축을 'D:/pj_data/Validation\\[라벨]애플망고'에 성공적으로 풀었습니다. 진행 상황: 60.00%\n",
      "[13/20] '[라벨]애호박.tar'의 압축을 'D:/pj_data/Validation\\[라벨]애호박'에 성공적으로 풀었습니다. 진행 상황: 65.00%\n",
      "[14/20] '[라벨]오이.tar'의 압축을 'D:/pj_data/Validation\\[라벨]오이'에 성공적으로 풀었습니다. 진행 상황: 70.00%\n",
      "[15/20] '[라벨]장미.tar'의 압축을 'D:/pj_data/Validation\\[라벨]장미'에 성공적으로 풀었습니다. 진행 상황: 75.00%\n",
      "[16/20] '[라벨]토마토_방울.tar'의 압축을 'D:/pj_data/Validation\\[라벨]토마토_방울'에 성공적으로 풀었습니다. 진행 상황: 80.00%\n",
      "[17/20] '[라벨]토마토_일반.tar'의 압축을 'D:/pj_data/Validation\\[라벨]토마토_일반'에 성공적으로 풀었습니다. 진행 상황: 85.00%\n",
      "[18/20] '[라벨]파프리카_미니.tar'의 압축을 'D:/pj_data/Validation\\[라벨]파프리카_미니'에 성공적으로 풀었습니다. 진행 상황: 90.00%\n",
      "[19/20] '[라벨]파프리카_코니컬.tar'의 압축을 'D:/pj_data/Validation\\[라벨]파프리카_코니컬'에 성공적으로 풀었습니다. 진행 상황: 95.00%\n",
      "[20/20] '[라벨파프리카_볼로키.tar'의 압축을 'D:/pj_data/Validation\\[라벨파프리카_볼로키'에 성공적으로 풀었습니다. 진행 상황: 100.00%\n"
     ]
    }
   ],
   "source": [
    "folder_path = 'D:/pj_data/시설 작물 개체 이미지/Validation/라벨'\n",
    "base_extract_path = 'D:/pj_data/Validation'\n",
    "extract_all_tar_files_in_folder(folder_path, base_extract_path)"
   ]
  },
  {
   "cell_type": "code",
   "execution_count": null,
   "metadata": {},
   "outputs": [],
   "source": []
  }
 ],
 "metadata": {
  "kernelspec": {
   "display_name": "py3_7",
   "language": "python",
   "name": "python3"
  },
  "language_info": {
   "codemirror_mode": {
    "name": "ipython",
    "version": 3
   },
   "file_extension": ".py",
   "mimetype": "text/x-python",
   "name": "python",
   "nbconvert_exporter": "python",
   "pygments_lexer": "ipython3",
   "version": "3.7.16"
  }
 },
 "nbformat": 4,
 "nbformat_minor": 2
}
