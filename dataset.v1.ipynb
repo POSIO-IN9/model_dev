{
 "cells": [
  {
   "cell_type": "code",
   "execution_count": 1,
   "metadata": {},
   "outputs": [],
   "source": [
    "import os\n",
    "import random\n",
    "import shutil\n",
    "from tqdm import tqdm\n",
    "\n",
    "class DataSplitter:\n",
    "    def __init__(self, data_path, output_path, split_ratio_train, split_ratio_val, split_ratio_test):\n",
    "        self.data_path = data_path\n",
    "        self.output_path = output_path\n",
    "        self.split_ratio_train = split_ratio_train\n",
    "        self.split_ratio_val = split_ratio_val\n",
    "        self.split_ratio_test = split_ratio_test\n",
    "\n",
    "    def split_data(self):\n",
    "        # 각 데이터 폴더를 생성합니다.\n",
    "        train_path = os.path.join(self.output_path, \"train\")\n",
    "        val_path = os.path.join(self.output_path, \"val\")\n",
    "        test_path = os.path.join(self.output_path, \"test\")\n",
    "        os.makedirs(train_path, exist_ok=True)\n",
    "        os.makedirs(val_path, exist_ok=True)\n",
    "        os.makedirs(test_path, exist_ok=True)\n",
    "\n",
    "        # 이미지와 JSON 파일을 순서대로 가져와서 train, val, test 폴더로 복사합니다.\n",
    "        for root, dirs, files in tqdm(os.walk(self.data_path), desc=\"Splitting data\"):\n",
    "            for file in files:\n",
    "                if file.endswith((\".jpg\", \".jpeg\", \".png\")):\n",
    "                    img_path = os.path.join(root, file)\n",
    "                    json_path = os.path.join(root.replace(\"img\", \"label\"), file.split(\".\")[0] + \".json\")\n",
    "\n",
    "                    rand_val = random.random()\n",
    "                    if rand_val < self.split_ratio_train:\n",
    "                        dest_folder = train_path\n",
    "                    elif rand_val < self.split_ratio_train + self.split_ratio_val:\n",
    "                        dest_folder = val_path\n",
    "                    else:\n",
    "                        dest_folder = test_path\n",
    "\n",
    "                    # 이미지와 JSON을 이동시킵니다.\n",
    "                    img_dest_folder = os.path.join(dest_folder, \"IMG\")\n",
    "                    json_dest_folder = os.path.join(dest_folder, \"JSON\")\n",
    "                    os.makedirs(img_dest_folder, exist_ok=True)\n",
    "                    os.makedirs(json_dest_folder, exist_ok=True)\n",
    "\n",
    "                    shutil.copy(img_path, os.path.join(img_dest_folder, os.path.basename(img_path)))\n",
    "                    shutil.copy(json_path, os.path.join(json_dest_folder, os.path.basename(json_path)))\n"
   ]
  },
  {
   "cell_type": "code",
   "execution_count": 2,
   "metadata": {},
   "outputs": [
    {
     "name": "stderr",
     "output_type": "stream",
     "text": [
      "Splitting data: 3it [00:05,  1.98s/it]\n"
     ]
    }
   ],
   "source": [
    "DATA_PATH = \"C:/Users/user/Desktop/pj/noa/rose/새 폴더\"\n",
    "OUTPUT_PATH = \"./dataset\"\n",
    "split_ratio_train = 0.7  # 훈련 데이터 비율\n",
    "split_ratio_val = 0.2  # 검증 데이터 비율\n",
    "split_ratio_test = 0.1\n",
    "data_splitter = DataSplitter(DATA_PATH, OUTPUT_PATH, split_ratio_train, split_ratio_val,split_ratio_test)\n",
    "data_splitter.split_data()\n"
   ]
  },
  {
   "cell_type": "code",
   "execution_count": null,
   "metadata": {},
   "outputs": [],
   "source": []
  }
 ],
 "metadata": {
  "kernelspec": {
   "display_name": "py3_11",
   "language": "python",
   "name": "python3"
  },
  "language_info": {
   "codemirror_mode": {
    "name": "ipython",
    "version": 3
   },
   "file_extension": ".py",
   "mimetype": "text/x-python",
   "name": "python",
   "nbconvert_exporter": "python",
   "pygments_lexer": "ipython3",
   "version": "3.11.9"
  }
 },
 "nbformat": 4,
 "nbformat_minor": 2
}
